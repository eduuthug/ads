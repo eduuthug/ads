{
  "cells": [
    {
      "cell_type": "markdown",
      "metadata": {
        "id": "view-in-github",
        "colab_type": "text"
      },
      "source": [
        "<a href=\"https://colab.research.google.com/github/eduuthug/ads/blob/main/Ol%C3%A1%2C_este_%C3%A9_o_Colaboratory.ipynb\" target=\"_parent\"><img src=\"https://colab.research.google.com/assets/colab-badge.svg\" alt=\"Open In Colab\"/></a>"
      ]
    },
    {
      "cell_type": "code",
      "source": [
        "# Definido uma função chamada \"soma\"\n",
        "def soma(a, b):\n",
        "    resultado = a + b\n",
        "    return resultado"
      ],
      "metadata": {
        "id": "kSj6KM1JTTR4"
      },
      "execution_count": 3,
      "outputs": []
    },
    {
      "cell_type": "code",
      "source": [
        "resultado_soma = soma(5, 3)\n",
        "i\n",
        "# Imprimindo o resultado\n",
        "print(\"A soma de 5 e 3 é:\", resultado_soma)"
      ],
      "metadata": {
        "colab": {
          "base_uri": "https://localhost:8080/"
        },
        "id": "yeuaRbgVTzNc",
        "outputId": "88d090e7-4978-4e37-9f0f-2b4ca06b17ca"
      },
      "execution_count": 5,
      "outputs": [
        {
          "output_type": "stream",
          "name": "stdout",
          "text": [
            "A soma de 5 e 3 é: 8\n"
          ]
        }
      ]
    },
    {
      "cell_type": "code",
      "source": [
        "# Definindo uma função chamadada \"e_par\"\n",
        "def e_par(numero):\n",
        "  #operador módulo %\n",
        "    if numero % 2 == 0:\n",
        "        return  True\n",
        "    else:\n",
        "        return  False\n"
      ],
      "metadata": {
        "id": "yoXug4OeTu6A"
      },
      "execution_count": 13,
      "outputs": []
    },
    {
      "cell_type": "code",
      "source": [
        "numero = 1514787877\n",
        "if e_par(numero):\n",
        "    print(f\"{numero} é um número par.\")\n",
        "else:\n",
        "    print(f\"{numero} não é um número par.\")\n",
        "\n",
        "\n",
        "\n",
        "\n"
      ],
      "metadata": {
        "colab": {
          "base_uri": "https://localhost:8080/"
        },
        "id": "BGQOS5yoTxK9",
        "outputId": "1ace3fc9-6cef-4242-c0ee-d594241d64f8"
      },
      "execution_count": 16,
      "outputs": [
        {
          "output_type": "stream",
          "name": "stdout",
          "text": [
            "1514787877 não é um número par.\n"
          ]
        }
      ]
    },
    {
      "cell_type": "code",
      "source": [
        "soma = lambda a, b : a + b\n",
        "resultado = soma(3, 4)\n",
        "print(resultado)"
      ],
      "metadata": {
        "colab": {
          "base_uri": "https://localhost:8080/"
        },
        "id": "JISzZfiMgLtn",
        "outputId": "6e96aa16-8eb2-433e-8b2b-f5274b9348c2"
      },
      "execution_count": 17,
      "outputs": [
        {
          "output_type": "stream",
          "name": "stdout",
          "text": [
            "7\n"
          ]
        }
      ]
    },
    {
      "cell_type": "code",
      "source": [
        "from re import M\n",
        "# Lista de notas dos estudantes\n",
        "notas = [7.5, 8.0, 6.5, 9.0, 7.0]\n",
        "\n",
        "# Função regular para calcular a média\n",
        "def calcular_media(notas):\n",
        "    total = sum(notas)\n",
        "    media = total / len(notas)\n",
        "    return media\n",
        "\n",
        "# Função lambda para arredondar a media para duas casas decimais\n",
        "arredondar_media = lambda media: round(media, 2)\n",
        "\n",
        "# Calcular a media\n",
        "media = calcular_media(notas)\n",
        "media_arredondada = arredondar_media(media)\n",
        "\n",
        "# Verificar se os estudantes foram aprovados\n",
        "situacao = \"Aprovado\" if media_arredondada >= 7 else \"Reprovado\"\n",
        "\n",
        "# Resultados\n",
        "print(\"Notas dos estudantes\", notas)\n",
        "print(\"Média da notas\", media_arredondada)\n",
        "print(\"Situação do estudante\", situacao)"
      ],
      "metadata": {
        "colab": {
          "base_uri": "https://localhost:8080/"
        },
        "id": "hCxpFo90iQt7",
        "outputId": "bf92b53a-903a-4ac0-a0d1-efb2df7b7538"
      },
      "execution_count": 24,
      "outputs": [
        {
          "output_type": "stream",
          "name": "stdout",
          "text": [
            "Notas dos estudantes [7.5, 8.0, 6.5, 9.0, 7.0]\n",
            "Média da notas 7.6\n",
            "Situação do estudante Aprovado\n"
          ]
        }
      ]
    },
    {
      "cell_type": "code",
      "source": [],
      "metadata": {
        "id": "PgcA2jsPkk6-"
      },
      "execution_count": null,
      "outputs": []
    }
  ],
  "metadata": {
    "colab": {
      "name": "Olá, este é o Colaboratory",
      "provenance": [],
      "include_colab_link": true
    },
    "kernelspec": {
      "display_name": "Python 3",
      "name": "python3"
    }
  },
  "nbformat": 4,
  "nbformat_minor": 0
}